{
 "cells": [
  {
   "cell_type": "markdown",
   "metadata": {},
   "source": [
    "## Klaviyo Data Challenge"
   ]
  },
  {
   "cell_type": "code",
   "execution_count": 1,
   "metadata": {},
   "outputs": [],
   "source": [
    "# importing necessary libraries\n",
    "\n",
    "import numpy as np\n",
    "import pandas as pd\n",
    "import matplotlib.pyplot as plt\n",
    "import seaborn as sns\n",
    "from scipy import stats\n",
    "from scipy.stats import shapiro\n",
    "from sklearn import metrics"
   ]
  },
  {
   "cell_type": "markdown",
   "metadata": {},
   "source": [
    "## Data"
   ]
  },
  {
   "cell_type": "code",
   "execution_count": 2,
   "metadata": {},
   "outputs": [],
   "source": [
    "# reading the data\n",
    "\n",
    "df = pd.read_csv(\"screening_exercise_orders_v201810.csv\")"
   ]
  },
  {
   "cell_type": "code",
   "execution_count": 3,
   "metadata": {
    "scrolled": true
   },
   "outputs": [
    {
     "data": {
      "text/html": [
       "<div>\n",
       "<style scoped>\n",
       "    .dataframe tbody tr th:only-of-type {\n",
       "        vertical-align: middle;\n",
       "    }\n",
       "\n",
       "    .dataframe tbody tr th {\n",
       "        vertical-align: top;\n",
       "    }\n",
       "\n",
       "    .dataframe thead th {\n",
       "        text-align: right;\n",
       "    }\n",
       "</style>\n",
       "<table border=\"1\" class=\"dataframe\">\n",
       "  <thead>\n",
       "    <tr style=\"text-align: right;\">\n",
       "      <th></th>\n",
       "      <th>customer_id</th>\n",
       "      <th>gender</th>\n",
       "      <th>date</th>\n",
       "      <th>value</th>\n",
       "      <th>predicted_gender</th>\n",
       "    </tr>\n",
       "  </thead>\n",
       "  <tbody>\n",
       "    <tr>\n",
       "      <th>0</th>\n",
       "      <td>1000</td>\n",
       "      <td>0</td>\n",
       "      <td>2017-01-01 00:11:31</td>\n",
       "      <td>198.5</td>\n",
       "      <td>1</td>\n",
       "    </tr>\n",
       "    <tr>\n",
       "      <th>1</th>\n",
       "      <td>1001</td>\n",
       "      <td>0</td>\n",
       "      <td>2017-01-01 00:29:56</td>\n",
       "      <td>338.0</td>\n",
       "      <td>1</td>\n",
       "    </tr>\n",
       "    <tr>\n",
       "      <th>2</th>\n",
       "      <td>1002</td>\n",
       "      <td>1</td>\n",
       "      <td>2017-01-01 01:30:31</td>\n",
       "      <td>733.0</td>\n",
       "      <td>1</td>\n",
       "    </tr>\n",
       "    <tr>\n",
       "      <th>3</th>\n",
       "      <td>1003</td>\n",
       "      <td>1</td>\n",
       "      <td>2017-01-01 01:34:22</td>\n",
       "      <td>772.0</td>\n",
       "      <td>1</td>\n",
       "    </tr>\n",
       "    <tr>\n",
       "      <th>4</th>\n",
       "      <td>1004</td>\n",
       "      <td>0</td>\n",
       "      <td>2017-01-01 03:11:54</td>\n",
       "      <td>508.0</td>\n",
       "      <td>1</td>\n",
       "    </tr>\n",
       "  </tbody>\n",
       "</table>\n",
       "</div>"
      ],
      "text/plain": [
       "   customer_id  gender                 date  value  predicted_gender\n",
       "0         1000       0  2017-01-01 00:11:31  198.5                 1\n",
       "1         1001       0  2017-01-01 00:29:56  338.0                 1\n",
       "2         1002       1  2017-01-01 01:30:31  733.0                 1\n",
       "3         1003       1  2017-01-01 01:34:22  772.0                 1\n",
       "4         1004       0  2017-01-01 03:11:54  508.0                 1"
      ]
     },
     "execution_count": 3,
     "metadata": {},
     "output_type": "execute_result"
    }
   ],
   "source": [
    "# displaying the first 5 rows\n",
    "\n",
    "df.head()"
   ]
  },
  {
   "cell_type": "code",
   "execution_count": 4,
   "metadata": {
    "scrolled": false
   },
   "outputs": [
    {
     "name": "stdout",
     "output_type": "stream",
     "text": [
      "<class 'pandas.core.frame.DataFrame'>\n",
      "RangeIndex: 13471 entries, 0 to 13470\n",
      "Data columns (total 5 columns):\n",
      " #   Column            Non-Null Count  Dtype  \n",
      "---  ------            --------------  -----  \n",
      " 0   customer_id       13471 non-null  int64  \n",
      " 1   gender            13471 non-null  int64  \n",
      " 2   date              13471 non-null  object \n",
      " 3   value             13471 non-null  float64\n",
      " 4   predicted_gender  13471 non-null  int64  \n",
      "dtypes: float64(1), int64(3), object(1)\n",
      "memory usage: 526.3+ KB\n"
     ]
    }
   ],
   "source": [
    "# dataset description\n",
    "\n",
    "df.info()"
   ]
  },
  {
   "cell_type": "markdown",
   "metadata": {},
   "source": [
    "We notice that there are no null values in the dataset."
   ]
  },
  {
   "cell_type": "markdown",
   "metadata": {},
   "source": [
    "## Data Manipulation"
   ]
  },
  {
   "cell_type": "markdown",
   "metadata": {},
   "source": [
    "We shall convert the date into a datetime object so that it is easier to perform further manipulations"
   ]
  },
  {
   "cell_type": "code",
   "execution_count": 5,
   "metadata": {},
   "outputs": [],
   "source": [
    "df['date'] = df['date'].astype('datetime64')"
   ]
  },
  {
   "cell_type": "code",
   "execution_count": 6,
   "metadata": {},
   "outputs": [
    {
     "name": "stdout",
     "output_type": "stream",
     "text": [
      "<class 'pandas.core.frame.DataFrame'>\n",
      "RangeIndex: 13471 entries, 0 to 13470\n",
      "Data columns (total 5 columns):\n",
      " #   Column            Non-Null Count  Dtype         \n",
      "---  ------            --------------  -----         \n",
      " 0   customer_id       13471 non-null  int64         \n",
      " 1   gender            13471 non-null  int64         \n",
      " 2   date              13471 non-null  datetime64[ns]\n",
      " 3   value             13471 non-null  float64       \n",
      " 4   predicted_gender  13471 non-null  int64         \n",
      "dtypes: datetime64[ns](1), float64(1), int64(3)\n",
      "memory usage: 526.3 KB\n"
     ]
    }
   ],
   "source": [
    "df.info()"
   ]
  },
  {
   "cell_type": "code",
   "execution_count": 7,
   "metadata": {},
   "outputs": [],
   "source": [
    "# Creating a day of the week column\n",
    "\n",
    "df['day_of_week'] = [d.day_name() for d in df['date']]"
   ]
  },
  {
   "cell_type": "code",
   "execution_count": 8,
   "metadata": {},
   "outputs": [],
   "source": [
    "# Ordering the day of the week column\n",
    "\n",
    "df['day_of_week'] = pd.Categorical(df['day_of_week'], \n",
    "                                 categories= ['Monday','Tuesday','Wednesday','Thursday','Friday','Saturday', 'Sunday'],\n",
    "                                              ordered = True)"
   ]
  },
  {
   "cell_type": "code",
   "execution_count": 9,
   "metadata": {},
   "outputs": [],
   "source": [
    "# Creating the time of the day column\n",
    "\n",
    "df['time'] = [d.time() for d in df['date']]"
   ]
  },
  {
   "cell_type": "code",
   "execution_count": 10,
   "metadata": {},
   "outputs": [],
   "source": [
    "# Splitting the the time of the day column into different sessions in a day\n",
    "\n",
    "df=df.assign(session=pd.cut(df.date.dt.hour,\n",
    "                            [0,6,12,18,23],\n",
    "                            labels=['Night','Morning','Afternoon','Evening'],\n",
    "                            include_lowest=True))"
   ]
  },
  {
   "cell_type": "code",
   "execution_count": 11,
   "metadata": {},
   "outputs": [],
   "source": [
    "# Creating a week of the year column\n",
    "\n",
    "df['week_of_year'] = df.date.apply(lambda x: x.weekofyear)"
   ]
  },
  {
   "cell_type": "code",
   "execution_count": 12,
   "metadata": {},
   "outputs": [],
   "source": [
    "# Creating a day of the year column\n",
    "\n",
    "df['day_of_year'] = df.date.apply(lambda x: x.dayofyear)"
   ]
  },
  {
   "cell_type": "code",
   "execution_count": 13,
   "metadata": {},
   "outputs": [],
   "source": [
    "# Manipulating the date column to show just the date and not the timestamp\n",
    "\n",
    "df['date'] = [d.date() for d in df['date']]"
   ]
  },
  {
   "cell_type": "code",
   "execution_count": 14,
   "metadata": {
    "scrolled": true
   },
   "outputs": [
    {
     "data": {
      "text/html": [
       "<div>\n",
       "<style scoped>\n",
       "    .dataframe tbody tr th:only-of-type {\n",
       "        vertical-align: middle;\n",
       "    }\n",
       "\n",
       "    .dataframe tbody tr th {\n",
       "        vertical-align: top;\n",
       "    }\n",
       "\n",
       "    .dataframe thead th {\n",
       "        text-align: right;\n",
       "    }\n",
       "</style>\n",
       "<table border=\"1\" class=\"dataframe\">\n",
       "  <thead>\n",
       "    <tr style=\"text-align: right;\">\n",
       "      <th></th>\n",
       "      <th>customer_id</th>\n",
       "      <th>gender</th>\n",
       "      <th>date</th>\n",
       "      <th>value</th>\n",
       "      <th>predicted_gender</th>\n",
       "      <th>day_of_week</th>\n",
       "      <th>time</th>\n",
       "      <th>session</th>\n",
       "      <th>week_of_year</th>\n",
       "      <th>day_of_year</th>\n",
       "    </tr>\n",
       "  </thead>\n",
       "  <tbody>\n",
       "    <tr>\n",
       "      <th>0</th>\n",
       "      <td>1000</td>\n",
       "      <td>0</td>\n",
       "      <td>2017-01-01</td>\n",
       "      <td>198.5</td>\n",
       "      <td>1</td>\n",
       "      <td>Sunday</td>\n",
       "      <td>00:11:31</td>\n",
       "      <td>Night</td>\n",
       "      <td>52</td>\n",
       "      <td>1</td>\n",
       "    </tr>\n",
       "    <tr>\n",
       "      <th>1</th>\n",
       "      <td>1001</td>\n",
       "      <td>0</td>\n",
       "      <td>2017-01-01</td>\n",
       "      <td>338.0</td>\n",
       "      <td>1</td>\n",
       "      <td>Sunday</td>\n",
       "      <td>00:29:56</td>\n",
       "      <td>Night</td>\n",
       "      <td>52</td>\n",
       "      <td>1</td>\n",
       "    </tr>\n",
       "    <tr>\n",
       "      <th>2</th>\n",
       "      <td>1002</td>\n",
       "      <td>1</td>\n",
       "      <td>2017-01-01</td>\n",
       "      <td>733.0</td>\n",
       "      <td>1</td>\n",
       "      <td>Sunday</td>\n",
       "      <td>01:30:31</td>\n",
       "      <td>Night</td>\n",
       "      <td>52</td>\n",
       "      <td>1</td>\n",
       "    </tr>\n",
       "    <tr>\n",
       "      <th>3</th>\n",
       "      <td>1003</td>\n",
       "      <td>1</td>\n",
       "      <td>2017-01-01</td>\n",
       "      <td>772.0</td>\n",
       "      <td>1</td>\n",
       "      <td>Sunday</td>\n",
       "      <td>01:34:22</td>\n",
       "      <td>Night</td>\n",
       "      <td>52</td>\n",
       "      <td>1</td>\n",
       "    </tr>\n",
       "    <tr>\n",
       "      <th>4</th>\n",
       "      <td>1004</td>\n",
       "      <td>0</td>\n",
       "      <td>2017-01-01</td>\n",
       "      <td>508.0</td>\n",
       "      <td>1</td>\n",
       "      <td>Sunday</td>\n",
       "      <td>03:11:54</td>\n",
       "      <td>Night</td>\n",
       "      <td>52</td>\n",
       "      <td>1</td>\n",
       "    </tr>\n",
       "  </tbody>\n",
       "</table>\n",
       "</div>"
      ],
      "text/plain": [
       "   customer_id  gender        date  value  predicted_gender day_of_week  \\\n",
       "0         1000       0  2017-01-01  198.5                 1      Sunday   \n",
       "1         1001       0  2017-01-01  338.0                 1      Sunday   \n",
       "2         1002       1  2017-01-01  733.0                 1      Sunday   \n",
       "3         1003       1  2017-01-01  772.0                 1      Sunday   \n",
       "4         1004       0  2017-01-01  508.0                 1      Sunday   \n",
       "\n",
       "       time session  week_of_year  day_of_year  \n",
       "0  00:11:31   Night            52            1  \n",
       "1  00:29:56   Night            52            1  \n",
       "2  01:30:31   Night            52            1  \n",
       "3  01:34:22   Night            52            1  \n",
       "4  03:11:54   Night            52            1  "
      ]
     },
     "execution_count": 14,
     "metadata": {},
     "output_type": "execute_result"
    }
   ],
   "source": [
    "df.head()"
   ]
  },
  {
   "cell_type": "markdown",
   "metadata": {},
   "source": [
    "## Exploratory Data Analysis"
   ]
  },
  {
   "cell_type": "code",
   "execution_count": 15,
   "metadata": {
    "scrolled": false
   },
   "outputs": [
    {
     "data": {
      "image/png": "[encoded data removed]",
      "text/plain": [
       "<Figure size 720x288 with 1 Axes>"
      ]
     },
     "metadata": {
      "needs_background": "light"
     },
     "output_type": "display_data"
    }
   ],
   "source": [
    "# plotting the count of orders for each gender\n",
    "\n",
    "ax = df.groupby(['gender']).count()['customer_id'].plot(kind = 'bar', figsize = (10,4), \n",
    "                            title = 'Count of orders for each gender')\n",
    "ax.set_xlabel('Gender')\n",
    "ax.set_ylabel('Count');"
   ]
  },
  {
   "cell_type": "markdown",
   "metadata": {},
   "source": [
    "Based on the above chart, we notice that the count of orders are almost similar for both the genders \"0\" and \"1\"."
   ]
  },
  {
   "cell_type": "code",
   "execution_count": 16,
   "metadata": {
    "scrolled": false
   },
   "outputs": [
    {
     "data": {
      "image/png": "[encoded data removed]",
      "text/plain": [
       "<Figure size 720x288 with 1 Axes>"
      ]
     },
     "metadata": {
      "needs_background": "light"
     },
     "output_type": "display_data"
    }
   ],
   "source": [
    "# plotting the count of orders on each day of the week\n",
    "\n",
    "ax = df.groupby(['day_of_week']).count()['customer_id'].plot(kind = 'bar', figsize = (10,4), \n",
    "                            title = 'Count of orders on each day of the week')\n",
    "ax.set_xlabel('Day of the Week')\n",
    "ax.set_ylabel('Count');"
   ]
  },
  {
   "cell_type": "markdown",
   "metadata": {},
   "source": [
    "By looking at the above barchart, the number of orders placed on weekends seems to be lower than the number of orders placed during weekdays. And Mondays, Thursdays and Fridays seems to be busier with respect to orders placed compard to the other days."
   ]
  },
  {
   "cell_type": "code",
   "execution_count": 17,
   "metadata": {},
   "outputs": [
    {
     "data": {
      "image/png": "[encoded data removed]",
      "text/plain": [
       "<Figure size 720x288 with 1 Axes>"
      ]
     },
     "metadata": {
      "needs_background": "light"
     },
     "output_type": "display_data"
    }
   ],
   "source": [
    "# plotting the count of orders at different times of the day\n",
    "\n",
    "ax = df.groupby(['session']).count()['customer_id'].plot(kind = 'bar', figsize = (10,4), \n",
    "                            title = 'Count of orders at different times of the day')\n",
    "ax.set_xlabel('Time of the day')\n",
    "ax.set_ylabel('Count');"
   ]
  },
  {
   "cell_type": "markdown",
   "metadata": {},
   "source": [
    "From the above bar chart, we see that the most number of orders are placed during afternoons."
   ]
  },
  {
   "cell_type": "markdown",
   "metadata": {},
   "source": [
    "## Questions"
   ]
  },
  {
   "cell_type": "markdown",
   "metadata": {},
   "source": [
    "### A) Assemble a dataframe with one row per customer and the following columns:\n",
    "\n",
    "customer_id, gender, most_recent_order_date, order_count (number of orders placed by this customer)"
   ]
  },
  {
   "cell_type": "code",
   "execution_count": 18,
   "metadata": {
    "scrolled": true
   },
   "outputs": [],
   "source": [
    "df_A = df.groupby(['customer_id', 'gender']).agg(most_recent_order_date = pd.NamedAgg('date','max'), \n",
    "                                          order_count = pd.NamedAgg('value','count')).reset_index()"
   ]
  },
  {
   "cell_type": "markdown",
   "metadata": {},
   "source": [
    "Sort the dataframe by customer_id ascending and display the first 10 rows."
   ]
  },
  {
   "cell_type": "code",
   "execution_count": 19,
   "metadata": {},
   "outputs": [
    {
     "data": {
      "text/html": [
       "<div>\n",
       "<style scoped>\n",
       "    .dataframe tbody tr th:only-of-type {\n",
       "        vertical-align: middle;\n",
       "    }\n",
       "\n",
       "    .dataframe tbody tr th {\n",
       "        vertical-align: top;\n",
       "    }\n",
       "\n",
       "    .dataframe thead th {\n",
       "        text-align: right;\n",
       "    }\n",
       "</style>\n",
       "<table border=\"1\" class=\"dataframe\">\n",
       "  <thead>\n",
       "    <tr style=\"text-align: right;\">\n",
       "      <th></th>\n",
       "      <th>customer_id</th>\n",
       "      <th>gender</th>\n",
       "      <th>most_recent_order_date</th>\n",
       "      <th>order_count</th>\n",
       "    </tr>\n",
       "  </thead>\n",
       "  <tbody>\n",
       "    <tr>\n",
       "      <th>0</th>\n",
       "      <td>1000</td>\n",
       "      <td>0</td>\n",
       "      <td>2017-01-01</td>\n",
       "      <td>1</td>\n",
       "    </tr>\n",
       "    <tr>\n",
       "      <th>1</th>\n",
       "      <td>1001</td>\n",
       "      <td>0</td>\n",
       "      <td>2017-01-01</td>\n",
       "      <td>1</td>\n",
       "    </tr>\n",
       "    <tr>\n",
       "      <th>2</th>\n",
       "      <td>1002</td>\n",
       "      <td>1</td>\n",
       "      <td>2017-02-19</td>\n",
       "      <td>3</td>\n",
       "    </tr>\n",
       "    <tr>\n",
       "      <th>3</th>\n",
       "      <td>1003</td>\n",
       "      <td>1</td>\n",
       "      <td>2017-04-26</td>\n",
       "      <td>4</td>\n",
       "    </tr>\n",
       "    <tr>\n",
       "      <th>4</th>\n",
       "      <td>1004</td>\n",
       "      <td>0</td>\n",
       "      <td>2017-01-01</td>\n",
       "      <td>1</td>\n",
       "    </tr>\n",
       "    <tr>\n",
       "      <th>5</th>\n",
       "      <td>1005</td>\n",
       "      <td>1</td>\n",
       "      <td>2017-12-16</td>\n",
       "      <td>2</td>\n",
       "    </tr>\n",
       "    <tr>\n",
       "      <th>6</th>\n",
       "      <td>1006</td>\n",
       "      <td>1</td>\n",
       "      <td>2017-05-09</td>\n",
       "      <td>3</td>\n",
       "    </tr>\n",
       "    <tr>\n",
       "      <th>7</th>\n",
       "      <td>1007</td>\n",
       "      <td>0</td>\n",
       "      <td>2017-01-01</td>\n",
       "      <td>1</td>\n",
       "    </tr>\n",
       "    <tr>\n",
       "      <th>8</th>\n",
       "      <td>1008</td>\n",
       "      <td>0</td>\n",
       "      <td>2017-12-17</td>\n",
       "      <td>3</td>\n",
       "    </tr>\n",
       "    <tr>\n",
       "      <th>9</th>\n",
       "      <td>1009</td>\n",
       "      <td>1</td>\n",
       "      <td>2017-01-01</td>\n",
       "      <td>1</td>\n",
       "    </tr>\n",
       "  </tbody>\n",
       "</table>\n",
       "</div>"
      ],
      "text/plain": [
       "   customer_id  gender most_recent_order_date  order_count\n",
       "0         1000       0             2017-01-01            1\n",
       "1         1001       0             2017-01-01            1\n",
       "2         1002       1             2017-02-19            3\n",
       "3         1003       1             2017-04-26            4\n",
       "4         1004       0             2017-01-01            1\n",
       "5         1005       1             2017-12-16            2\n",
       "6         1006       1             2017-05-09            3\n",
       "7         1007       0             2017-01-01            1\n",
       "8         1008       0             2017-12-17            3\n",
       "9         1009       1             2017-01-01            1"
      ]
     },
     "execution_count": 19,
     "metadata": {},
     "output_type": "execute_result"
    }
   ],
   "source": [
    "df_A = df_A.sort_values('customer_id', ascending= True)\n",
    "df_A.head(10)"
   ]
  },
  {
   "cell_type": "markdown",
   "metadata": {},
   "source": [
    "### B) Plot the count of orders per week for the store."
   ]
  },
  {
   "cell_type": "code",
   "execution_count": 20,
   "metadata": {
    "scrolled": true
   },
   "outputs": [
    {
     "data": {
      "text/html": [
       "<div>\n",
       "<style scoped>\n",
       "    .dataframe tbody tr th:only-of-type {\n",
       "        vertical-align: middle;\n",
       "    }\n",
       "\n",
       "    .dataframe tbody tr th {\n",
       "        vertical-align: top;\n",
       "    }\n",
       "\n",
       "    .dataframe thead th {\n",
       "        text-align: right;\n",
       "    }\n",
       "</style>\n",
       "<table border=\"1\" class=\"dataframe\">\n",
       "  <thead>\n",
       "    <tr style=\"text-align: right;\">\n",
       "      <th></th>\n",
       "      <th>week_of_year</th>\n",
       "      <th>count_of_orders</th>\n",
       "    </tr>\n",
       "  </thead>\n",
       "  <tbody>\n",
       "    <tr>\n",
       "      <th>0</th>\n",
       "      <td>1</td>\n",
       "      <td>180</td>\n",
       "    </tr>\n",
       "    <tr>\n",
       "      <th>1</th>\n",
       "      <td>2</td>\n",
       "      <td>264</td>\n",
       "    </tr>\n",
       "    <tr>\n",
       "      <th>2</th>\n",
       "      <td>3</td>\n",
       "      <td>405</td>\n",
       "    </tr>\n",
       "    <tr>\n",
       "      <th>3</th>\n",
       "      <td>4</td>\n",
       "      <td>233</td>\n",
       "    </tr>\n",
       "    <tr>\n",
       "      <th>4</th>\n",
       "      <td>5</td>\n",
       "      <td>211</td>\n",
       "    </tr>\n",
       "  </tbody>\n",
       "</table>\n",
       "</div>"
      ],
      "text/plain": [
       "   week_of_year  count_of_orders\n",
       "0             1              180\n",
       "1             2              264\n",
       "2             3              405\n",
       "3             4              233\n",
       "4             5              211"
      ]
     },
     "execution_count": 20,
     "metadata": {},
     "output_type": "execute_result"
    }
   ],
   "source": [
    "df_B = df.groupby(['week_of_year']).agg(count_of_orders = pd.NamedAgg('value','count')).reset_index()\n",
    "df_B.head()"
   ]
  },
  {
   "cell_type": "code",
   "execution_count": 21,
   "metadata": {
    "scrolled": false
   },
   "outputs": [
    {
     "data": {
      "image/png": "[encoded data removed]",
      "text/plain": [
       "<Figure size 1440x720 with 1 Axes>"
      ]
     },
     "metadata": {},
     "output_type": "display_data"
    }
   ],
   "source": [
    "sns.set(rc = {'figure.figsize':(20,10)})\n",
    "ax = sns.lineplot(x = 'week_of_year', y = 'count_of_orders', data = df_B)\n",
    "ax.set(xlim = (1,52),\n",
    "       xticks = range(1,53))\n",
    "ax.set_title('Count of orders per week for the store')\n",
    "\n",
    "xs = df_B['week_of_year'].to_numpy()\n",
    "ys = df_B['count_of_orders'].to_numpy()\n",
    "\n",
    "for x,y in zip(xs,ys):\n",
    "\n",
    "    label = y\n",
    "\n",
    "    ax.annotate(label, # the text to be displayed on the corresponding points\n",
    "                 (x,y), # the points to label\n",
    "                 textcoords=\"offset points\", # signifies how to position the text\n",
    "                 xytext=(0,10), # distance from text to points (x,y)\n",
    "                 ha='center') # horizontal alignment can be left, right or center\n",
    "\n",
    "plt.ylabel('Count of orders',fontsize=14)\n",
    "plt.xlabel('Week number',fontsize=14);"
   ]
  },
  {
   "cell_type": "markdown",
   "metadata": {},
   "source": [
    "From the above graph, we can see that the week 20 has the most numbers of orders in the given year."
   ]
  },
  {
   "cell_type": "markdown",
   "metadata": {},
   "source": [
    "### C) Compute the mean order value for gender 0 and for gender 1. Do you think the difference is significant? Justify your choice of method."
   ]
  },
  {
   "cell_type": "markdown",
   "metadata": {},
   "source": [
    "We are asked to check whether there is a significant difference between the two groups (i.e. two different genders - Male and Female in this case). In order to compare two different groups, we use t-test.<br>\n",
    "However, before we proceed further, we need to check whether the following assumptions of the t-test hold good with respect to this data.<br>\n",
    "<b>Assumption of Independence:</b> This assumption is satisfied because we are conducting the t-test between two independent, categorical groups that represent the independent variable (i.e. two different genders - Male and Female in this case).<br>\n",
    "<b>Assumption of normality:</b> The dependent variable which is the order value must be normally distributed and also be measured on a continuous scale. We shall check for this assumption using Histograms<br>\n",
    "<b>Assumption of Homogeneity of Variance:</b> The variances of the dependent variable which is the order value should be equal."
   ]
  },
  {
   "cell_type": "markdown",
   "metadata": {},
   "source": [
    "<b>Check for the assumption of normality:</b><br>\n",
    "We shall use histogram to check for the normality assumption."
   ]
  },
  {
   "cell_type": "code",
   "execution_count": 22,
   "metadata": {
    "scrolled": false
   },
   "outputs": [
    {
     "data": {
      "image/png": "[encoded data removed]",
      "text/plain": [
       "<Figure size 1440x720 with 2 Axes>"
      ]
     },
     "metadata": {},
     "output_type": "display_data"
    }
   ],
   "source": [
    "df['value'].hist(by = df['gender']);"
   ]
  },
  {
   "cell_type": "code",
   "execution_count": 23,
   "metadata": {},
   "outputs": [
    {
     "data": {
      "image/png": "[encoded data removed]",
      "text/plain": [
       "<Figure size 1440x720 with 1 Axes>"
      ]
     },
     "metadata": {},
     "output_type": "display_data"
    }
   ],
   "source": [
    "df.boxplot(column=['value'], by='gender');"
   ]
  },
  {
   "cell_type": "markdown",
   "metadata": {},
   "source": [
    "From the above histograms and boxplots, it can be seen that the data for the dependent variable (i.e. order value) is skewed and not normal (i.e. not bell shaped). Hence, in order to satisfy the normality assumption, we need to do log transformation of the data. But since some of the order values may be $0, we add 1 to the order values in order to avoid NaN values."
   ]
  },
  {
   "cell_type": "code",
   "execution_count": 24,
   "metadata": {},
   "outputs": [],
   "source": [
    "df['log_order_value'] = np.log(df['value'] +1)"
   ]
  },
  {
   "cell_type": "code",
   "execution_count": 25,
   "metadata": {
    "scrolled": false
   },
   "outputs": [
    {
     "data": {
      "image/png": "[encoded data removed]",
      "text/plain": [
       "<Figure size 1440x720 with 2 Axes>"
      ]
     },
     "metadata": {},
     "output_type": "display_data"
    }
   ],
   "source": [
    "df['log_order_value'].hist(by = df['gender']);"
   ]
  },
  {
   "cell_type": "markdown",
   "metadata": {},
   "source": [
    "From the above Histograms of the log transformed order values, it can be seen that the data for the dependent variable (i.e. order value) seems to be normally distributed.<br>\n",
    "However, to further statistically verify whether the log transformed order values follow a Gaussian distribution, we conduct a Shapiro-Wilk test."
   ]
  },
  {
   "cell_type": "code",
   "execution_count": 27,
   "metadata": {},
   "outputs": [
    {
     "name": "stdout",
     "output_type": "stream",
     "text": [
      "Statistics=0.875, p=0.000\n",
      "Based on Shapiro-Wilk test, sample does not look Gaussian (reject H0)\n"
     ]
    }
   ],
   "source": [
    "log_order_value_0 = df.loc[df['gender'] == 0]['log_order_value'].to_numpy()\n",
    "\n",
    "stat, p = shapiro(log_order_value_0)\n",
    "print('Statistics=%.3f, p=%.3f' % (stat, p))\n",
    "\n",
    "alpha = 0.05\n",
    "if p > alpha:\n",
    "    print('Based on Shapiro-Wilk test, sample looks Gaussian (fail to reject H0)')\n",
    "else:\n",
    "    print('Based on Shapiro-Wilk test, sample does not look Gaussian (reject H0)')"
   ]
  },
  {
   "cell_type": "code",
   "execution_count": 28,
   "metadata": {},
   "outputs": [
    {
     "name": "stdout",
     "output_type": "stream",
     "text": [
      "Statistics=0.872, p=0.000\n",
      "Based on Shapiro-Wilk test, sample does not look Gaussian (reject H0)\n"
     ]
    }
   ],
   "source": [
    "log_order_value_1 = df.loc[df['gender'] == 1]['log_order_value'].to_numpy()\n",
    "\n",
    "stat, p = shapiro(log_order_value_1)\n",
    "print('Statistics=%.3f, p=%.3f' % (stat, p))\n",
    "\n",
    "alpha = 0.05\n",
    "if p > alpha:\n",
    "    print('Based on Shapiro-Wilk test, sample looks Gaussian (fail to reject H0)')\n",
    "else:\n",
    "    print('Based on Shapiro-Wilk test, sample does not look Gaussian (reject H0)')"
   ]
  },
  {
   "cell_type": "code",
   "execution_count": 29,
   "metadata": {
    "scrolled": true
   },
   "outputs": [
    {
     "data": {
      "text/html": [
       "<div>\n",
       "<style scoped>\n",
       "    .dataframe tbody tr th:only-of-type {\n",
       "        vertical-align: middle;\n",
       "    }\n",
       "\n",
       "    .dataframe tbody tr th {\n",
       "        vertical-align: top;\n",
       "    }\n",
       "\n",
       "    .dataframe thead th {\n",
       "        text-align: right;\n",
       "    }\n",
       "</style>\n",
       "<table border=\"1\" class=\"dataframe\">\n",
       "  <thead>\n",
       "    <tr style=\"text-align: right;\">\n",
       "      <th></th>\n",
       "      <th>gender</th>\n",
       "      <th>mean</th>\n",
       "      <th>std</th>\n",
       "      <th>variance</th>\n",
       "      <th>count</th>\n",
       "    </tr>\n",
       "  </thead>\n",
       "  <tbody>\n",
       "    <tr>\n",
       "      <th>0</th>\n",
       "      <td>0</td>\n",
       "      <td>5.422276</td>\n",
       "      <td>1.154447</td>\n",
       "      <td>1.332747</td>\n",
       "      <td>6759</td>\n",
       "    </tr>\n",
       "    <tr>\n",
       "      <th>1</th>\n",
       "      <td>1</td>\n",
       "      <td>5.413693</td>\n",
       "      <td>1.116729</td>\n",
       "      <td>1.247084</td>\n",
       "      <td>6712</td>\n",
       "    </tr>\n",
       "  </tbody>\n",
       "</table>\n",
       "</div>"
      ],
      "text/plain": [
       "   gender      mean       std  variance  count\n",
       "0       0  5.422276  1.154447  1.332747   6759\n",
       "1       1  5.413693  1.116729  1.247084   6712"
      ]
     },
     "execution_count": 29,
     "metadata": {},
     "output_type": "execute_result"
    }
   ],
   "source": [
    "df_C = df.groupby(['gender']).agg(mean = ('log_order_value','mean'), std = ('log_order_value','std'), \n",
    "                           variance = ('log_order_value','var'), count= ('log_order_value','count')).reset_index()\n",
    "df_C"
   ]
  },
  {
   "cell_type": "markdown",
   "metadata": {},
   "source": [
    "For a t-test to be valid on a sample of smaller size of 20 or 30, the population distribution would have to be approximately normal.\n",
    "\n",
    "However, based on the central limit theorem, means of samples from a population with finite variance approach a normal distribution regardless of the population distribution. In general, the sample means are essentially normally distributed as long as the sample size is larger than 30. And, we notice that in our case the variances of the two groups are different as well. Hence, we use Welch t-test. The Welch t-test is an adaptation of Student's t-test and is used to compare the means of two groups of samples when the variances are different."
   ]
  },
  {
   "cell_type": "markdown",
   "metadata": {},
   "source": [
    "<b> Welch t-test for two samples</b>"
   ]
  },
  {
   "cell_type": "markdown",
   "metadata": {},
   "source": [
    "<b> Hypothesis formulation:</b><br>\n",
    "<b> Null Hypothesis (H0):</b> There is no significant difference between the the mean order value for two genders<br>\n",
    "<b> Alternate Hypothesis (H1):</b> There is a significant difference between the the mean order value for two genders<br>\n",
    "<b> alpha value:</b> 0.05"
   ]
  },
  {
   "cell_type": "code",
   "execution_count": 30,
   "metadata": {},
   "outputs": [
    {
     "name": "stdout",
     "output_type": "stream",
     "text": [
      "The p-value of the two tailed Welch t-test is 0.661\n"
     ]
    }
   ],
   "source": [
    "# since we have unequal variance, we set the parameter equal_var to False\n",
    "p_value_two_tail = stats.ttest_ind(log_order_value_0,log_order_value_1, equal_var = False).pvalue \n",
    "\n",
    "p_value_two_tail = round(p_value_two_tail,3)\n",
    "p_value_two_tail\n",
    "print(\"The p-value of the two tailed Welch t-test is {}\".format(p_value_two_tail))"
   ]
  },
  {
   "cell_type": "markdown",
   "metadata": {},
   "source": [
    "From the p-value we found using the t-test, we can see that the p-value of 0.661 is greater than our pre-determined alpha-level of 0.05, we fail to reject our null-hypothesis and conclude that we do not have a statistically significant evidence that shows that the mean order value of the two genders are different with a confidence interval of 95%."
   ]
  },
  {
   "cell_type": "markdown",
   "metadata": {},
   "source": [
    "### D) Generate a confusion matrix for the gender predictions of customers in this dataset. You should assume that there is only one gender prediction for each customer. What does the confusion matrix tell you about the quality of the predictions?"
   ]
  },
  {
   "cell_type": "code",
   "execution_count": 31,
   "metadata": {
    "scrolled": true
   },
   "outputs": [
    {
     "data": {
      "text/plain": [
       "array([[3349, 3410],\n",
       "       [1463, 5249]], dtype=int64)"
      ]
     },
     "execution_count": 31,
     "metadata": {},
     "output_type": "execute_result"
    }
   ],
   "source": [
    "\n",
    "y_act = list(df['gender'])\n",
    "y_pred = list(df['predicted_gender'])\n",
    "metrics.confusion_matrix(y_act, y_pred)"
   ]
  },
  {
   "cell_type": "markdown",
   "metadata": {},
   "source": [
    "The confusion matrix above shows that<br>\n",
    "3349 records labelled \"0\" are correctly predicted as \"0\"<br>\n",
    "5249 records labelled \"1\" are correctly predicted as \"1\"<br>\n",
    "3410 records labelled \"0\" are incorrectly predicted as \"1\"<br>\n",
    "1463 records labelled \"1\" are incorrectly predicted as \"0\"<br>"
   ]
  },
  {
   "cell_type": "markdown",
   "metadata": {},
   "source": [
    "Based on the confusion matrix, we can calculate the classification metrics such as accuracy, precision, and recall."
   ]
  },
  {
   "cell_type": "markdown",
   "metadata": {},
   "source": [
    "TP = True Positive <br>\n",
    "TN = True Negative <br>\n",
    "FP = False Positive <br>\n",
    "FN = False Negative <br>"
   ]
  },
  {
   "cell_type": "markdown",
   "metadata": {},
   "source": [
    "Accuracy = (TP+TN)/(TP+FP+FN+TN)"
   ]
  },
  {
   "cell_type": "code",
   "execution_count": 32,
   "metadata": {},
   "outputs": [
    {
     "data": {
      "text/plain": [
       "0.6382599658525722"
      ]
     },
     "execution_count": 32,
     "metadata": {},
     "output_type": "execute_result"
    }
   ],
   "source": [
    "metrics.accuracy_score(y_act, y_pred)"
   ]
  },
  {
   "cell_type": "markdown",
   "metadata": {},
   "source": [
    "Based on the accuracy score from the confusion matrix, we can say that the quality of the predictions is 63.82% accurate. But accuracy is a good measure only with respect to a symmetric dataset in which false negatives and false positives counts are close. Also when false negatives and false positives have similar costs. Hence, we cannot just go by the accuracy score to evaluate the quality of predictions.\n"
   ]
  },
  {
   "cell_type": "markdown",
   "metadata": {},
   "source": [
    "So now we turn to precision and recall scores.<br>\n",
    "Precision score signifies how confident are we with respect to our prediction of true positives. i.e. to minimize the Type 1 error, we improve the precision.<br>\n",
    "Recall score signifies how confident are we with respect to not missing out any positives. i.e. to minimize the Type 2 error, we improve the recall."
   ]
  },
  {
   "cell_type": "markdown",
   "metadata": {},
   "source": [
    "Precision = TP/(TP+FP)"
   ]
  },
  {
   "cell_type": "markdown",
   "metadata": {},
   "source": [
    "Recall = TP/(TP+FN)"
   ]
  },
  {
   "cell_type": "code",
   "execution_count": 33,
   "metadata": {
    "scrolled": true
   },
   "outputs": [
    {
     "name": "stdout",
     "output_type": "stream",
     "text": [
      "              precision    recall  f1-score   support\n",
      "\n",
      "           0       0.70      0.50      0.58      6759\n",
      "           1       0.61      0.78      0.68      6712\n",
      "\n",
      "    accuracy                           0.64     13471\n",
      "   macro avg       0.65      0.64      0.63     13471\n",
      "weighted avg       0.65      0.64      0.63     13471\n",
      "\n"
     ]
    }
   ],
   "source": [
    "print(metrics.classification_report(y_act, y_pred))"
   ]
  },
  {
   "cell_type": "markdown",
   "metadata": {},
   "source": [
    "From the above classification report, we can see that <br>\n",
    "Precision score of 70% for gender \"0\" signifies that on average, 3 of every 10 \"0\" labeled records by our classification model  is \"1\", and 7 records are labelled as \"0\".<br>\n",
    "Precision score of 61% for gender \"1\" signifies that on average, 4 of every 10 \"1\" labeled records by our classification model is \"0\", and 6 records are labelled as \"1\".<br>\n",
    "Recall score of 50% for gender \"0\" signifies that approximately 5 of every 10 \"0\" labeled records are missed by our classification model and 5 are labelled <br> as \"0\".<br>\n",
    "Recall score of 78% for gender \"1\" signifies that approximately 2 of every 10 \"1\" labeled records are missed by our classification model and 8 are labelled<br> as \"1\".<br>"
   ]
  },
  {
   "cell_type": "code",
   "execution_count": 34,
   "metadata": {},
   "outputs": [
    {
     "name": "stdout",
     "output_type": "stream",
     "text": [
      "The overall precision score of the model is 0.606\n"
     ]
    }
   ],
   "source": [
    "precision = metrics.precision_score(y_act, y_pred)\n",
    "print(\"The overall precision score of the model is {}\".format(round(precision,3)))"
   ]
  },
  {
   "cell_type": "code",
   "execution_count": 35,
   "metadata": {
    "scrolled": true
   },
   "outputs": [
    {
     "name": "stdout",
     "output_type": "stream",
     "text": [
      "The overall recall score of the model is 0.782\n"
     ]
    }
   ],
   "source": [
    "recall = metrics.recall_score(y_act, y_pred)\n",
    "print(\"The overall recall score of the model is {}\".format(round(recall,3)))"
   ]
  },
  {
   "cell_type": "markdown",
   "metadata": {},
   "source": [
    "The overall precision and recall scores are 60.61% and 78.20% respectively.<br>This shows that the classification model is more prone to make a Type 1 error than a Type 2 error, i.e. it is predicting the gender 1 when the gender is \"0\" (3410 records) more often than it is predicting gender 0 when the gender is \"1\" (1463 records).<br>\n",
    "This also shows that the models has learnt to correctly predict the classification of gender \"1\" (5249 records) more than it correctly predicts the gender \"0\"(3349 records)."
   ]
  },
  {
   "cell_type": "markdown",
   "metadata": {},
   "source": [
    "### E) Describe one of your favorite tools or techniques and give a small example of how it's helped you solve a problem. Limit your answer to one paragraph, and please be specific."
   ]
  },
  {
   "cell_type": "markdown",
   "metadata": {},
   "source": [
    "One of the projects that I worked on as a Data Science Intern at the Iowa Department of Transportation was predicting the customer wait-times at the DMV stations. The goal was to display the Live estimated customer wait-times for every hour on the Iowa DOT official website for any working day. The data consisted of millions of records procured from the Qmatic queue management scheduling software for the past 10 years that contained the historic wait-times of customers at 18 major driving license stations across Iowa. My favourite modeling technique that I used to tackle this problem was FB Prophet time-series forecasting tool. The cool thing about this technique is that it is fairly simple and straighforward to implement in the sense that it needs only two columns to predict the output - the timestamp and the value (customer wait-times in this case). Besides, this additive time series modeling technique also handles daily, weekly, monthly or yearly data very well. To adjust for the output fluctuations, I used LOWESS (Locally weighted smoothing) smoothing technique with various smoothing spans which lowered the RMSE of the forecast and improved the prediction accuracy. Instead of the traditional way to deploy an ML model using Flask, I did it using Streamlit. I found Streamlit to be easier for deploying ML solutions since it only requires Python scripting and we require less code is needed to create a beautiful application. This was then integrated into the official Iowa DOT website. \n",
    "Power BI is my favorite go-to tool for data analysis and creating interactive visualizations. My exploratory data anlysis and published dashboards for this project which were used to make better decisions are below,\n",
    "<br> \n",
    "http://bit.do/DLanalysis <br>\n",
    "http://bit.ly/DLquestion <br>\n",
    "http://bit.ly/DLsmoothing"
   ]
  },
  {
   "cell_type": "markdown",
   "metadata": {},
   "source": [
    "Thank you for the opportunity!"
   ]
  },
  {
   "cell_type": "markdown",
   "metadata": {},
   "source": [
    "### Name: Kishor Kumar Sridhar\n",
    "### Email: kishorkumarsridhar@gmail.com"
   ]
  }
 ],
 "metadata": {
  "kernelspec": {
   "display_name": "Python 3",
   "language": "python",
   "name": "python3"
  },
  "language_info": {
   "codemirror_mode": {
    "name": "ipython",
    "version": 3
   },
   "file_extension": ".py",
   "mimetype": "text/x-python",
   "name": "python",
   "nbconvert_exporter": "python",
   "pygments_lexer": "ipython3",
   "version": "3.7.6"
  }
 },
 "nbformat": 4,
 "nbformat_minor": 4
}
